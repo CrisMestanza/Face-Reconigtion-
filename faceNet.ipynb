{
 "cells": [
  {
   "cell_type": "markdown",
   "id": "a39bb816",
   "metadata": {},
   "source": [
    "# Extracción del embedding"
   ]
  },
  {
   "cell_type": "code",
   "execution_count": 2,
   "id": "05ddfeda",
   "metadata": {},
   "outputs": [
    {
     "ename": "error",
     "evalue": "OpenCV(4.11.0) D:\\a\\opencv-python\\opencv-python\\opencv\\modules\\imgproc\\src\\color.cpp:199: error: (-215:Assertion failed) !_src.empty() in function 'cv::cvtColor'\n",
     "output_type": "error",
     "traceback": [
      "\u001b[1;31m---------------------------------------------------------------------------\u001b[0m",
      "\u001b[1;31merror\u001b[0m                                     Traceback (most recent call last)",
      "Cell \u001b[1;32mIn[2], line 27\u001b[0m\n\u001b[0;32m     24\u001b[0m     \u001b[38;5;28mprint\u001b[39m(\u001b[38;5;124m\"\u001b[39m\u001b[38;5;124mEmbedding guardado en embedding_registro.npy\u001b[39m\u001b[38;5;124m\"\u001b[39m)\n\u001b[0;32m     26\u001b[0m \u001b[38;5;28;01mif\u001b[39;00m \u001b[38;5;18m__name__\u001b[39m \u001b[38;5;241m==\u001b[39m \u001b[38;5;124m\"\u001b[39m\u001b[38;5;124m__main__\u001b[39m\u001b[38;5;124m\"\u001b[39m:\n\u001b[1;32m---> 27\u001b[0m     \u001b[43mmain\u001b[49m\u001b[43m(\u001b[49m\u001b[43m)\u001b[49m\n",
      "Cell \u001b[1;32mIn[2], line 22\u001b[0m, in \u001b[0;36mmain\u001b[1;34m()\u001b[0m\n\u001b[0;32m     21\u001b[0m \u001b[38;5;28;01mdef\u001b[39;00m\u001b[38;5;250m \u001b[39m\u001b[38;5;21mmain\u001b[39m():\n\u001b[1;32m---> 22\u001b[0m     embedding \u001b[38;5;241m=\u001b[39m \u001b[43mget_embedding\u001b[49m\u001b[43m(\u001b[49m\u001b[38;5;124;43m'\u001b[39;49m\u001b[38;5;124;43mrostro1.jpg\u001b[39;49m\u001b[38;5;124;43m'\u001b[39;49m\u001b[43m)\u001b[49m \n\u001b[0;32m     23\u001b[0m     np\u001b[38;5;241m.\u001b[39msave(\u001b[38;5;124m'\u001b[39m\u001b[38;5;124membedding_registro.npy\u001b[39m\u001b[38;5;124m'\u001b[39m, embedding)\n\u001b[0;32m     24\u001b[0m     \u001b[38;5;28mprint\u001b[39m(\u001b[38;5;124m\"\u001b[39m\u001b[38;5;124mEmbedding guardado en embedding_registro.npy\u001b[39m\u001b[38;5;124m\"\u001b[39m)\n",
      "Cell \u001b[1;32mIn[2], line 11\u001b[0m, in \u001b[0;36mget_embedding\u001b[1;34m(img_path)\u001b[0m\n\u001b[0;32m      9\u001b[0m \u001b[38;5;28;01mdef\u001b[39;00m\u001b[38;5;250m \u001b[39m\u001b[38;5;21mget_embedding\u001b[39m(img_path):\n\u001b[0;32m     10\u001b[0m     img \u001b[38;5;241m=\u001b[39m cv2\u001b[38;5;241m.\u001b[39mimread(img_path)\n\u001b[1;32m---> 11\u001b[0m     img \u001b[38;5;241m=\u001b[39m \u001b[43mcv2\u001b[49m\u001b[38;5;241;43m.\u001b[39;49m\u001b[43mcvtColor\u001b[49m\u001b[43m(\u001b[49m\u001b[43mimg\u001b[49m\u001b[43m,\u001b[49m\u001b[43m \u001b[49m\u001b[43mcv2\u001b[49m\u001b[38;5;241;43m.\u001b[39;49m\u001b[43mCOLOR_BGR2RGB\u001b[49m\u001b[43m)\u001b[49m\n\u001b[0;32m     12\u001b[0m     face \u001b[38;5;241m=\u001b[39m mtcnn(img)\n\u001b[0;32m     13\u001b[0m     \u001b[38;5;28;01mif\u001b[39;00m face \u001b[38;5;129;01mis\u001b[39;00m \u001b[38;5;28;01mNone\u001b[39;00m:\n",
      "\u001b[1;31merror\u001b[0m: OpenCV(4.11.0) D:\\a\\opencv-python\\opencv-python\\opencv\\modules\\imgproc\\src\\color.cpp:199: error: (-215:Assertion failed) !_src.empty() in function 'cv::cvtColor'\n"
     ]
    }
   ],
   "source": [
    "import torch\n",
    "import numpy as np\n",
    "import cv2\n",
    "from facenet_pytorch import MTCNN, InceptionResnetV1\n",
    "\n",
    "mtcnn = MTCNN(image_size=160, margin=20, keep_all=False, device='cuda' if torch.cuda.is_available() else 'cpu')\n",
    "model = InceptionResnetV1(pretrained='vggface2').eval()\n",
    "\n",
    "def get_embedding(img_path):\n",
    "    img = cv2.imread(img_path)\n",
    "    img = cv2.cvtColor(img, cv2.COLOR_BGR2RGB)\n",
    "    face = mtcnn(img)\n",
    "    if face is None:\n",
    "        raise ValueError(\"No se detectó rostro en la imagen.\")\n",
    "    face = face.unsqueeze(0)\n",
    "    with torch.no_grad():\n",
    "        embedding = model(face).detach().cpu().numpy()\n",
    "    embedding = embedding / np.linalg.norm(embedding)\n",
    "    return embedding\n",
    "\n",
    "def main():\n",
    "    embedding = get_embedding('rostro1.jpg') \n",
    "    np.save('embedding_registro.npy', embedding)\n",
    "    print(\"Embedding guardado en embedding_registro.npy\")\n",
    "\n",
    "if __name__ == \"__main__\":\n",
    "    main()\n"
   ]
  },
  {
   "cell_type": "markdown",
   "id": "ee6e732e",
   "metadata": {},
   "source": [
    "# Comparación "
   ]
  },
  {
   "cell_type": "code",
   "execution_count": null,
   "id": "3aee58f8",
   "metadata": {},
   "outputs": [
    {
     "name": "stdout",
     "output_type": "stream",
     "text": [
      "¡Rostro verificado! Desbloqueo autorizado.\n"
     ]
    }
   ],
   "source": [
    "import torch\n",
    "import numpy as np\n",
    "import cv2\n",
    "from facenet_pytorch import MTCNN, InceptionResnetV1\n",
    "\n",
    "mtcnn = MTCNN(image_size=160, margin=20, keep_all=False, device='cuda' if torch.cuda.is_available() else 'cpu')\n",
    "model = InceptionResnetV1(pretrained='vggface2').eval()\n",
    "\n",
    "def get_embedding(img_path):\n",
    "    img = cv2.imread(img_path)\n",
    "    img = cv2.cvtColor(img, cv2.COLOR_BGR2RGB)\n",
    "    face = mtcnn(img)\n",
    "    if face is None:\n",
    "        raise ValueError(\"No se detectó rostro en la imagen.\")\n",
    "    face = face.unsqueeze(0)\n",
    "    with torch.no_grad():\n",
    "        embedding = model(face).detach().cpu().numpy()\n",
    "    embedding = embedding / np.linalg.norm(embedding)\n",
    "    return embedding\n",
    "\n",
    "def verify(embedding1, embedding2, threshold=0.6):\n",
    "    cos_sim = np.dot(embedding1, embedding2.T)\n",
    "    return cos_sim > (1 - threshold)\n",
    "\n",
    "def main():\n",
    "    emb_registro = np.load('embedding_registro.npy')\n",
    "    emb_nuevo = get_embedding('rostro_0006.jpg')  \n",
    "\n",
    "    if verify(emb_registro.flatten(), emb_nuevo.flatten()):\n",
    "        print(\"¡Rostro verificado! Desbloqueo autorizado.\")\n",
    "    else:\n",
    "        print(\"Rostro no coincide. Desbloqueo rechazado.\")\n",
    "\n",
    "if __name__ == \"__main__\":\n",
    "    main()\n"
   ]
  },
  {
   "cell_type": "markdown",
   "id": "d9cba3cb",
   "metadata": {},
   "source": [
    "# Código alterno"
   ]
  },
  {
   "cell_type": "code",
   "execution_count": 29,
   "id": "dcab950d",
   "metadata": {},
   "outputs": [
    {
     "name": "stdout",
     "output_type": "stream",
     "text": [
      "Faces are different\n",
      "Euclidean distance: 0.936867356300354\n"
     ]
    }
   ],
   "source": [
    "import torch\n",
    "from facenet_pytorch import InceptionResnetV1\n",
    "from torchvision import transforms\n",
    "from PIL import Image\n",
    "import numpy as np\n",
    "\n",
    "# Preprocesamiento que espera InceptionResnetV1\n",
    "def preprocess_image_pytorch(image_path):\n",
    "    transform = transforms.Compose([\n",
    "        transforms.Resize((160, 160)),\n",
    "        transforms.ToTensor(),  # convierte a tensor y escala a [0,1]\n",
    "        transforms.Normalize(mean=[0.5, 0.5, 0.5], std=[0.5, 0.5, 0.5])  # normaliza a [-1,1]\n",
    "    ])\n",
    "    img = Image.open(image_path).convert('RGB')\n",
    "    img_t = transform(img)\n",
    "    img_t = img_t.unsqueeze(0)  # Añadir dimensión batch\n",
    "    return img_t\n",
    "\n",
    "# Extrae embedding facial usando el modelo\n",
    "def get_face_embedding(model, image_path, device):\n",
    "    img_tensor = preprocess_image_pytorch(image_path).to(device)\n",
    "    model = model.to(device)\n",
    "    model.eval()\n",
    "    with torch.no_grad():\n",
    "        embedding = model(img_tensor)\n",
    "    embedding = embedding / embedding.norm()\n",
    "    return embedding.cpu().numpy()\n",
    "\n",
    "# Compara dos embeddings por distancia Euclidiana\n",
    "def compare_faces(embedding1, embedding2, threshold=0.9):\n",
    "    dist = np.linalg.norm(embedding1 - embedding2)\n",
    "    if dist < threshold:\n",
    "        print(\"Faces Matched\")\n",
    "    else:\n",
    "        print(\"Faces are different\")\n",
    "    return dist\n",
    "\n",
    "# --- Código principal ---\n",
    "device = torch.device('cuda' if torch.cuda.is_available() else 'cpu')\n",
    "\n",
    "model = InceptionResnetV1(pretrained='vggface2').eval()\n",
    "\n",
    "embedding1 = get_face_embedding(model, 'jimmy.jpg', device)\n",
    "embedding2 = get_face_embedding(model, 'jimmy3.jpg', device)\n",
    "\n",
    "distance = compare_faces(embedding1, embedding2)\n",
    "\n",
    "print(f\"Euclidean distance: {distance}\")\n"
   ]
  }
 ],
 "metadata": {
  "kernelspec": {
   "display_name": "env",
   "language": "python",
   "name": "python3"
  },
  "language_info": {
   "codemirror_mode": {
    "name": "ipython",
    "version": 3
   },
   "file_extension": ".py",
   "mimetype": "text/x-python",
   "name": "python",
   "nbconvert_exporter": "python",
   "pygments_lexer": "ipython3",
   "version": "3.10.0"
  }
 },
 "nbformat": 4,
 "nbformat_minor": 5
}
